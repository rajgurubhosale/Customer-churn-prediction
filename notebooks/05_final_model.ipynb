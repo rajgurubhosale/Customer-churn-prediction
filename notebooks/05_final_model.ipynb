{
 "cells": [
  {
   "cell_type": "code",
   "execution_count": 2,
   "metadata": {},
   "outputs": [],
   "source": [
    "import os \n",
    "os.chdir(r'D:\\churn prediction')"
   ]
  },
  {
   "cell_type": "code",
   "execution_count": 11,
   "metadata": {},
   "outputs": [],
   "source": [
    "import pandas as pd\n",
    "from src.preprocessing import preprocessing_pipeline\n",
    "from output.results_io import  load_results\n",
    "from src.training_model import train_model_pipeline\n",
    "from src.metrics import metrics_evaluation,validation_evalution\n",
    "import xgboost  "
   ]
  },
  {
   "cell_type": "code",
   "execution_count": 12,
   "metadata": {},
   "outputs": [],
   "source": [
    "train = pd.read_csv(r'D:\\churn prediction\\data\\fe_train.csv')\n",
    "test =  pd.read_csv(r'D:\\churn prediction\\data\\fe_test.csv')"
   ]
  },
  {
   "cell_type": "code",
   "execution_count": 13,
   "metadata": {},
   "outputs": [],
   "source": [
    "X_train = train.drop(columns='Churn')\n",
    "y_train = train['Churn']\n",
    "\n",
    "X_test = test.drop(columns='Churn')\n",
    "y_test = test['Churn']"
   ]
  },
  {
   "cell_type": "code",
   "execution_count": 14,
   "metadata": {},
   "outputs": [],
   "source": [
    "num_cols = X_train.select_dtypes([int,float]).columns\n",
    "cat_cols = X_train.select_dtypes([object]).columns\n",
    "tnf = preprocessing_pipeline(num_cols,cat_cols)"
   ]
  },
  {
   "cell_type": "code",
   "execution_count": 15,
   "metadata": {},
   "outputs": [
    {
     "data": {
      "text/html": [
       "<div>\n",
       "<style scoped>\n",
       "    .dataframe tbody tr th:only-of-type {\n",
       "        vertical-align: middle;\n",
       "    }\n",
       "\n",
       "    .dataframe tbody tr th {\n",
       "        vertical-align: top;\n",
       "    }\n",
       "\n",
       "    .dataframe thead th {\n",
       "        text-align: right;\n",
       "    }\n",
       "</style>\n",
       "<table border=\"1\" class=\"dataframe\">\n",
       "  <thead>\n",
       "    <tr style=\"text-align: right;\">\n",
       "      <th></th>\n",
       "      <th>model</th>\n",
       "      <th>recall_test</th>\n",
       "      <th>precision_test</th>\n",
       "      <th>recall_train</th>\n",
       "      <th>precision_train</th>\n",
       "    </tr>\n",
       "  </thead>\n",
       "  <tbody>\n",
       "    <tr>\n",
       "      <th>0</th>\n",
       "      <td>baseline_xgboost</td>\n",
       "      <td>0.831579</td>\n",
       "      <td>0.752381</td>\n",
       "      <td>0.853093</td>\n",
       "      <td>0.789976</td>\n",
       "    </tr>\n",
       "    <tr>\n",
       "      <th>1</th>\n",
       "      <td>RandomForestClassifier</td>\n",
       "      <td>0.873684</td>\n",
       "      <td>0.988095</td>\n",
       "      <td>0.863402</td>\n",
       "      <td>0.988201</td>\n",
       "    </tr>\n",
       "    <tr>\n",
       "      <th>2</th>\n",
       "      <td>GradientBoostingClassifier</td>\n",
       "      <td>0.873684</td>\n",
       "      <td>0.988095</td>\n",
       "      <td>0.868557</td>\n",
       "      <td>1.000000</td>\n",
       "    </tr>\n",
       "    <tr>\n",
       "      <th>3</th>\n",
       "      <td>XGBClassifier</td>\n",
       "      <td>0.873684</td>\n",
       "      <td>0.976471</td>\n",
       "      <td>0.863402</td>\n",
       "      <td>0.991124</td>\n",
       "    </tr>\n",
       "  </tbody>\n",
       "</table>\n",
       "</div>"
      ],
      "text/plain": [
       "                        model  recall_test  precision_test  recall_train  \\\n",
       "0            baseline_xgboost     0.831579        0.752381      0.853093   \n",
       "1      RandomForestClassifier     0.873684        0.988095      0.863402   \n",
       "2  GradientBoostingClassifier     0.873684        0.988095      0.868557   \n",
       "3               XGBClassifier     0.873684        0.976471      0.863402   \n",
       "\n",
       "   precision_train  \n",
       "0         0.789976  \n",
       "1         0.988201  \n",
       "2         1.000000  \n",
       "3         0.991124  "
      ]
     },
     "execution_count": 15,
     "metadata": {},
     "output_type": "execute_result"
    }
   ],
   "source": [
    "load_results()"
   ]
  },
  {
   "cell_type": "code",
   "execution_count": 16,
   "metadata": {},
   "outputs": [],
   "source": [
    "xgb = xgboost.XGBClassifier(max_depth=3,eta=0.09,scale_pos_weight=4.5,n_estimators=100,random_state=42)\n",
    "xgb_model = train_model_pipeline(xgb,tnf,X_train,y_train)"
   ]
  },
  {
   "cell_type": "code",
   "execution_count": 17,
   "metadata": {},
   "outputs": [
    {
     "name": "stdout",
     "output_type": "stream",
     "text": [
      "Train metrics\n",
      "recall: 0.863\n",
      "precision:0.991\n",
      " \n",
      "Test metrics\n",
      "recall: 0.874\n",
      "precision:0.976\n"
     ]
    },
    {
     "data": {
      "image/png": "[encoded data removed]",
      "text/plain": [
       "<Figure size 640x480 with 2 Axes>"
      ]
     },
     "metadata": {},
     "output_type": "display_data"
    }
   ],
   "source": [
    "metrics_evaluation(xgb_model,X_train,X_test,y_train,y_test)"
   ]
  },
  {
   "cell_type": "code",
   "execution_count": 19,
   "metadata": {},
   "outputs": [
    {
     "data": {
      "text/plain": [
       "np.float64(0.8582084582084581)"
      ]
     },
     "execution_count": 19,
     "metadata": {},
     "output_type": "execute_result"
    }
   ],
   "source": [
    "validation_evalution(xgb_model,'recall',X_train,y_train)"
   ]
  }
 ],
 "metadata": {
  "kernelspec": {
   "display_name": "venv",
   "language": "python",
   "name": "python3"
  },
  "language_info": {
   "codemirror_mode": {
    "name": "ipython",
    "version": 3
   },
   "file_extension": ".py",
   "mimetype": "text/x-python",
   "name": "python",
   "nbconvert_exporter": "python",
   "pygments_lexer": "ipython3",
   "version": "3.11.4"
  }
 },
 "nbformat": 4,
 "nbformat_minor": 2
}
