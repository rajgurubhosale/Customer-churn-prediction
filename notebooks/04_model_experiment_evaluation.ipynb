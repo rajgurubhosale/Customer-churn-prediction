{
 "cells": [
  {
   "cell_type": "code",
   "execution_count": 1,
   "metadata": {},
   "outputs": [],
   "source": [
    "import os \n",
    "os.chdir(r'D:\\churn prediction')"
   ]
  },
  {
   "cell_type": "code",
   "execution_count": 35,
   "metadata": {},
   "outputs": [],
   "source": [
    "from src.training_model import train_model_pipeline\n",
    "from output.results_io import load_results,save_results\n",
    "import xgboost\n",
    "import pandas as pd\n",
    "import numpy as np\n",
    "from src.preprocessing import preprocessing_pipeline\n",
    "from src.training_model import train_model_pipeline\n",
    "from src.metrics import metrics_evaluation,validation_evalution\n",
    "from sklearn.ensemble import RandomForestClassifier,GradientBoostingClassifier\n",
    "import pickle"
   ]
  },
  {
   "cell_type": "code",
   "execution_count": 3,
   "metadata": {},
   "outputs": [],
   "source": [
    "train = pd.read_csv(r'D:\\churn prediction\\data\\fe_train.csv')\n",
    "test =  pd.read_csv(r'D:\\churn prediction\\data\\fe_test.csv')"
   ]
  },
  {
   "cell_type": "code",
   "execution_count": 4,
   "metadata": {},
   "outputs": [],
   "source": [
    "X_train = train.drop(columns='Churn')\n",
    "y_train = train['Churn']\n",
    "\n",
    "X_test = test.drop(columns='Churn')\n",
    "y_test = test['Churn']"
   ]
  },
  {
   "cell_type": "code",
   "execution_count": 5,
   "metadata": {},
   "outputs": [],
   "source": [
    "num_cols = X_train.select_dtypes([int,float]).columns\n",
    "cat_cols = X_train.select_dtypes([object]).columns\n",
    "tnf = preprocessing_pipeline(num_cols,cat_cols)"
   ]
  },
  {
   "cell_type": "markdown",
   "metadata": {},
   "source": [
    "### baseline model metrics"
   ]
  },
  {
   "cell_type": "code",
   "execution_count": 6,
   "metadata": {},
   "outputs": [
    {
     "data": {
      "text/html": [
       "<div>\n",
       "<style scoped>\n",
       "    .dataframe tbody tr th:only-of-type {\n",
       "        vertical-align: middle;\n",
       "    }\n",
       "\n",
       "    .dataframe tbody tr th {\n",
       "        vertical-align: top;\n",
       "    }\n",
       "\n",
       "    .dataframe thead th {\n",
       "        text-align: right;\n",
       "    }\n",
       "</style>\n",
       "<table border=\"1\" class=\"dataframe\">\n",
       "  <thead>\n",
       "    <tr style=\"text-align: right;\">\n",
       "      <th></th>\n",
       "      <th>model</th>\n",
       "      <th>recall_test</th>\n",
       "      <th>precision_test</th>\n",
       "      <th>recall_train</th>\n",
       "      <th>precision_train</th>\n",
       "    </tr>\n",
       "  </thead>\n",
       "  <tbody>\n",
       "    <tr>\n",
       "      <th>0</th>\n",
       "      <td>baseline_xgboost</td>\n",
       "      <td>0.831579</td>\n",
       "      <td>0.752381</td>\n",
       "      <td>0.853093</td>\n",
       "      <td>0.789976</td>\n",
       "    </tr>\n",
       "    <tr>\n",
       "      <th>1</th>\n",
       "      <td>RandomForestClassifier</td>\n",
       "      <td>0.873684</td>\n",
       "      <td>0.988095</td>\n",
       "      <td>0.863402</td>\n",
       "      <td>0.988201</td>\n",
       "    </tr>\n",
       "    <tr>\n",
       "      <th>2</th>\n",
       "      <td>GradientBoostingClassifier</td>\n",
       "      <td>0.873684</td>\n",
       "      <td>0.988095</td>\n",
       "      <td>0.868557</td>\n",
       "      <td>1.000000</td>\n",
       "    </tr>\n",
       "    <tr>\n",
       "      <th>3</th>\n",
       "      <td>XGBClassifier</td>\n",
       "      <td>0.873684</td>\n",
       "      <td>0.976471</td>\n",
       "      <td>0.863402</td>\n",
       "      <td>0.991124</td>\n",
       "    </tr>\n",
       "  </tbody>\n",
       "</table>\n",
       "</div>"
      ],
      "text/plain": [
       "                        model  recall_test  precision_test  recall_train  \\\n",
       "0            baseline_xgboost     0.831579        0.752381      0.853093   \n",
       "1      RandomForestClassifier     0.873684        0.988095      0.863402   \n",
       "2  GradientBoostingClassifier     0.873684        0.988095      0.868557   \n",
       "3               XGBClassifier     0.873684        0.976471      0.863402   \n",
       "\n",
       "   precision_train  \n",
       "0         0.789976  \n",
       "1         0.988201  \n",
       "2         1.000000  \n",
       "3         0.991124  "
      ]
     },
     "execution_count": 6,
     "metadata": {},
     "output_type": "execute_result"
    }
   ],
   "source": [
    "load_results()"
   ]
  },
  {
   "cell_type": "markdown",
   "metadata": {},
   "source": [
    "# Random Forest"
   ]
  },
  {
   "cell_type": "code",
   "execution_count": 28,
   "metadata": {},
   "outputs": [],
   "source": [
    "rf = RandomForestClassifier(\n",
    "            random_state=42,\n",
    "            max_depth=7,\n",
    "            min_samples_split=14,\n",
    "            class_weight='balanced',\n",
    "            max_samples= 0.81,\n",
    "            max_features=0.45,\n",
    "            n_estimators=176\n",
    "            \n",
    "        )\n",
    "rf_model = train_model_pipeline(rf,tnf,X_train,y_train)"
   ]
  },
  {
   "cell_type": "code",
   "execution_count": 29,
   "metadata": {},
   "outputs": [
    {
     "data": {
      "text/plain": [
       "np.float64(0.8582750582750582)"
      ]
     },
     "execution_count": 29,
     "metadata": {},
     "output_type": "execute_result"
    }
   ],
   "source": [
    "validation_evalution(rf_model,'recall',X_train,y_train)"
   ]
  },
  {
   "cell_type": "code",
   "execution_count": 30,
   "metadata": {},
   "outputs": [
    {
     "data": {
      "text/plain": [
       "np.float64(0.9881847990032133)"
      ]
     },
     "execution_count": 30,
     "metadata": {},
     "output_type": "execute_result"
    }
   ],
   "source": [
    "validation_evalution(rf_model,'precision',X_train,y_train)"
   ]
  },
  {
   "cell_type": "code",
   "execution_count": 31,
   "metadata": {},
   "outputs": [
    {
     "name": "stdout",
     "output_type": "stream",
     "text": [
      "Train metrics\n",
      "recall: 0.863\n",
      "precision:0.988\n",
      " \n",
      "Test metrics\n",
      "recall: 0.874\n",
      "precision:0.988\n"
     ]
    },
    {
     "data": {
      "image/png": "[encoded data removed]",
      "text/plain": [
       "<Figure size 640x480 with 2 Axes>"
      ]
     },
     "metadata": {},
     "output_type": "display_data"
    }
   ],
   "source": [
    "metrics_evaluation(rf_model,X_train,X_test,y_train,y_test)"
   ]
  },
  {
   "cell_type": "code",
   "execution_count": 32,
   "metadata": {},
   "outputs": [],
   "source": [
    "#save results\n",
    "#save_results(rf_model,'RandomForestClassifier',X_train,X_test,y_train,y_test)"
   ]
  },
  {
   "cell_type": "code",
   "execution_count": 33,
   "metadata": {},
   "outputs": [
    {
     "data": {
      "text/html": [
       "<div>\n",
       "<style scoped>\n",
       "    .dataframe tbody tr th:only-of-type {\n",
       "        vertical-align: middle;\n",
       "    }\n",
       "\n",
       "    .dataframe tbody tr th {\n",
       "        vertical-align: top;\n",
       "    }\n",
       "\n",
       "    .dataframe thead th {\n",
       "        text-align: right;\n",
       "    }\n",
       "</style>\n",
       "<table border=\"1\" class=\"dataframe\">\n",
       "  <thead>\n",
       "    <tr style=\"text-align: right;\">\n",
       "      <th></th>\n",
       "      <th>model</th>\n",
       "      <th>recall_test</th>\n",
       "      <th>precision_test</th>\n",
       "      <th>recall_train</th>\n",
       "      <th>precision_train</th>\n",
       "    </tr>\n",
       "  </thead>\n",
       "  <tbody>\n",
       "    <tr>\n",
       "      <th>0</th>\n",
       "      <td>baseline_xgboost</td>\n",
       "      <td>0.831579</td>\n",
       "      <td>0.752381</td>\n",
       "      <td>0.853093</td>\n",
       "      <td>0.789976</td>\n",
       "    </tr>\n",
       "    <tr>\n",
       "      <th>1</th>\n",
       "      <td>RandomForestClassifier</td>\n",
       "      <td>0.873684</td>\n",
       "      <td>0.988095</td>\n",
       "      <td>0.863402</td>\n",
       "      <td>0.988201</td>\n",
       "    </tr>\n",
       "    <tr>\n",
       "      <th>2</th>\n",
       "      <td>GradientBoostingClassifier</td>\n",
       "      <td>0.873684</td>\n",
       "      <td>0.988095</td>\n",
       "      <td>0.868557</td>\n",
       "      <td>1.000000</td>\n",
       "    </tr>\n",
       "    <tr>\n",
       "      <th>3</th>\n",
       "      <td>XGBClassifier</td>\n",
       "      <td>0.873684</td>\n",
       "      <td>0.976471</td>\n",
       "      <td>0.863402</td>\n",
       "      <td>0.991124</td>\n",
       "    </tr>\n",
       "  </tbody>\n",
       "</table>\n",
       "</div>"
      ],
      "text/plain": [
       "                        model  recall_test  precision_test  recall_train  \\\n",
       "0            baseline_xgboost     0.831579        0.752381      0.853093   \n",
       "1      RandomForestClassifier     0.873684        0.988095      0.863402   \n",
       "2  GradientBoostingClassifier     0.873684        0.988095      0.868557   \n",
       "3               XGBClassifier     0.873684        0.976471      0.863402   \n",
       "\n",
       "   precision_train  \n",
       "0         0.789976  \n",
       "1         0.988201  \n",
       "2         1.000000  \n",
       "3         0.991124  "
      ]
     },
     "execution_count": 33,
     "metadata": {},
     "output_type": "execute_result"
    }
   ],
   "source": [
    "load_results()"
   ]
  },
  {
   "cell_type": "code",
   "execution_count": 38,
   "metadata": {},
   "outputs": [],
   "source": [
    "pickle.dump(rf_model,open(r'D:\\churn prediction\\models\\rf_model.pkl','wb'))"
   ]
  },
  {
   "cell_type": "markdown",
   "metadata": {},
   "source": [
    "# Gradient Boosting classifier"
   ]
  },
  {
   "cell_type": "code",
   "execution_count": 39,
   "metadata": {},
   "outputs": [],
   "source": [
    "\n",
    "gb = GradientBoostingClassifier(\n",
    "            random_state=43,\n",
    "            max_depth= 4,\n",
    "            learning_rate=0.06,\n",
    "            min_samples_split= 6,\n",
    "            n_estimators= 100,\n",
    "            max_features= 0.70)"
   ]
  },
  {
   "cell_type": "code",
   "execution_count": 40,
   "metadata": {},
   "outputs": [],
   "source": [
    "gb_model = train_model_pipeline(gb,tnf,X_train,y_train)"
   ]
  },
  {
   "cell_type": "code",
   "execution_count": 41,
   "metadata": {},
   "outputs": [
    {
     "data": {
      "text/plain": [
       "np.float64(0.9939393939393939)"
      ]
     },
     "execution_count": 41,
     "metadata": {},
     "output_type": "execute_result"
    }
   ],
   "source": [
    "validation_evalution(gb_model,'precision',X_train,y_train)"
   ]
  },
  {
   "cell_type": "code",
   "execution_count": 42,
   "metadata": {},
   "outputs": [
    {
     "name": "stdout",
     "output_type": "stream",
     "text": [
      "Train metrics\n",
      "recall: 0.869\n",
      "precision:1.000\n",
      " \n",
      "Test metrics\n",
      "recall: 0.874\n",
      "precision:0.988\n"
     ]
    },
    {
     "data": {
      "image/png": "[encoded data removed]",
      "text/plain": [
       "<Figure size 640x480 with 2 Axes>"
      ]
     },
     "metadata": {},
     "output_type": "display_data"
    }
   ],
   "source": [
    "metrics_evaluation(gb_model,X_train,X_test,y_train,y_test)"
   ]
  },
  {
   "cell_type": "code",
   "execution_count": 43,
   "metadata": {},
   "outputs": [],
   "source": [
    "#save_results(gb_model,'GradientBoostingClassifier',X_train,X_test,y_train,y_test)"
   ]
  },
  {
   "cell_type": "code",
   "execution_count": 44,
   "metadata": {},
   "outputs": [
    {
     "data": {
      "text/html": [
       "<div>\n",
       "<style scoped>\n",
       "    .dataframe tbody tr th:only-of-type {\n",
       "        vertical-align: middle;\n",
       "    }\n",
       "\n",
       "    .dataframe tbody tr th {\n",
       "        vertical-align: top;\n",
       "    }\n",
       "\n",
       "    .dataframe thead th {\n",
       "        text-align: right;\n",
       "    }\n",
       "</style>\n",
       "<table border=\"1\" class=\"dataframe\">\n",
       "  <thead>\n",
       "    <tr style=\"text-align: right;\">\n",
       "      <th></th>\n",
       "      <th>model</th>\n",
       "      <th>recall_test</th>\n",
       "      <th>precision_test</th>\n",
       "      <th>recall_train</th>\n",
       "      <th>precision_train</th>\n",
       "    </tr>\n",
       "  </thead>\n",
       "  <tbody>\n",
       "    <tr>\n",
       "      <th>0</th>\n",
       "      <td>baseline_xgboost</td>\n",
       "      <td>0.831579</td>\n",
       "      <td>0.752381</td>\n",
       "      <td>0.853093</td>\n",
       "      <td>0.789976</td>\n",
       "    </tr>\n",
       "    <tr>\n",
       "      <th>1</th>\n",
       "      <td>RandomForestClassifier</td>\n",
       "      <td>0.873684</td>\n",
       "      <td>0.988095</td>\n",
       "      <td>0.863402</td>\n",
       "      <td>0.988201</td>\n",
       "    </tr>\n",
       "    <tr>\n",
       "      <th>2</th>\n",
       "      <td>GradientBoostingClassifier</td>\n",
       "      <td>0.873684</td>\n",
       "      <td>0.988095</td>\n",
       "      <td>0.868557</td>\n",
       "      <td>1.000000</td>\n",
       "    </tr>\n",
       "    <tr>\n",
       "      <th>3</th>\n",
       "      <td>XGBClassifier</td>\n",
       "      <td>0.873684</td>\n",
       "      <td>0.976471</td>\n",
       "      <td>0.863402</td>\n",
       "      <td>0.991124</td>\n",
       "    </tr>\n",
       "  </tbody>\n",
       "</table>\n",
       "</div>"
      ],
      "text/plain": [
       "                        model  recall_test  precision_test  recall_train  \\\n",
       "0            baseline_xgboost     0.831579        0.752381      0.853093   \n",
       "1      RandomForestClassifier     0.873684        0.988095      0.863402   \n",
       "2  GradientBoostingClassifier     0.873684        0.988095      0.868557   \n",
       "3               XGBClassifier     0.873684        0.976471      0.863402   \n",
       "\n",
       "   precision_train  \n",
       "0         0.789976  \n",
       "1         0.988201  \n",
       "2         1.000000  \n",
       "3         0.991124  "
      ]
     },
     "execution_count": 44,
     "metadata": {},
     "output_type": "execute_result"
    }
   ],
   "source": [
    "load_results()"
   ]
  },
  {
   "cell_type": "code",
   "execution_count": 45,
   "metadata": {},
   "outputs": [],
   "source": [
    "pickle.dump(gb_model,open('D:\\churn prediction\\models\\gb_model.pkl','wb'))"
   ]
  },
  {
   "cell_type": "markdown",
   "metadata": {},
   "source": [
    "# XGBOOST"
   ]
  },
  {
   "cell_type": "code",
   "execution_count": 46,
   "metadata": {},
   "outputs": [],
   "source": [
    "import optuna\n",
    "from sklearn.pipeline import Pipeline\n",
    "from xgboost import XGBClassifier\n",
    "from sklearn.model_selection import cross_val_score,StratifiedKFold\n",
    "\n",
    "def objective(trial):\n",
    "    \n",
    "    max_depth = trial.suggest_int('max_depth',3,20)\n",
    "    eta= trial.suggest_float('eta',0.1,3)\n",
    "    scale_pos_weight = trial.suggest_float('scale_pos_weight',2.0,7.0)\n",
    "    subsample  = trial.suggest_float('subsample',0.6,0.9)\n",
    "    colsample_bytree = trial.suggest_float('colsample_bytree',0.6,0.9)\n",
    "    n_estimators = trial.suggest_int('n_estimators',50,200)\n",
    "    reg_alpha=trial.suggest_float('reg_alpha', 0.0, 1.0)\n",
    "   \n",
    "    pipe = Pipeline([\n",
    "        \n",
    "        ('tnf',tnf),\n",
    "       ('model',XGBClassifier(\n",
    "            random_state=42,\n",
    "            max_depth = max_depth,\n",
    "            eta = eta,\n",
    "            scale_pos_weight = scale_pos_weight ,\n",
    "            subsample  = subsample ,\n",
    "            colsample_bytree = colsample_bytree ,\n",
    "            n_estimators = n_estimators ,\n",
    "            reg_alpha = reg_alpha,\n",
    "           \n",
    "           \n",
    "             \n",
    "       ))\n",
    "    ])\n",
    "\n",
    "    \n",
    "    cv =  StratifiedKFold(n_splits=3,shuffle=True)\n",
    "    cv_result = cross_val_score(pipe,X_train,y_train,cv=cv,scoring='recall',)\n",
    "    return np.mean(cv_result)"
   ]
  },
  {
   "cell_type": "code",
   "execution_count": 20,
   "metadata": {},
   "outputs": [],
   "source": [
    "#study = optuna.create_study(direction='maximize',sampler=optuna.samplers.TPESampler())\n",
    "#study.optimize(objective,n_trials=200)\n",
    "\n",
    "#study.best_value"
   ]
  },
  {
   "cell_type": "code",
   "execution_count": 47,
   "metadata": {},
   "outputs": [],
   "source": [
    "xgb = xgboost.XGBClassifier(max_depth=3,eta=0.09,scale_pos_weight=4.5,n_estimators=100,random_state=42)\n",
    "xgb_model = train_model_pipeline(xgb,tnf,X_train,y_train)"
   ]
  },
  {
   "cell_type": "code",
   "execution_count": 48,
   "metadata": {},
   "outputs": [
    {
     "name": "stdout",
     "output_type": "stream",
     "text": [
      "Train metrics\n",
      "recall: 0.863\n",
      "precision:0.991\n",
      " \n",
      "Test metrics\n",
      "recall: 0.874\n",
      "precision:0.976\n"
     ]
    },
    {
     "data": {
      "image/png": "[encoded data removed]",
      "text/plain": [
       "<Figure size 640x480 with 2 Axes>"
      ]
     },
     "metadata": {},
     "output_type": "display_data"
    }
   ],
   "source": [
    "metrics_evaluation(xgb_model,X_train,X_test,y_train,y_test)"
   ]
  },
  {
   "cell_type": "code",
   "execution_count": 49,
   "metadata": {},
   "outputs": [
    {
     "data": {
      "text/plain": [
       "np.float64(0.9703911526198187)"
      ]
     },
     "execution_count": 49,
     "metadata": {},
     "output_type": "execute_result"
    }
   ],
   "source": [
    "validation_evalution(xgb_model,'precision',X_train,y_train)"
   ]
  },
  {
   "cell_type": "code",
   "execution_count": 50,
   "metadata": {},
   "outputs": [
    {
     "data": {
      "text/plain": [
       "np.float64(0.8479520479520479)"
      ]
     },
     "execution_count": 50,
     "metadata": {},
     "output_type": "execute_result"
    }
   ],
   "source": [
    "validation_evalution(xgb_model,'recall',X_train,y_train)"
   ]
  },
  {
   "cell_type": "code",
   "execution_count": 25,
   "metadata": {},
   "outputs": [],
   "source": [
    "#save_results(xgb_model,'XGBClassifier',X_train,X_test,y_train,y_test)"
   ]
  },
  {
   "cell_type": "code",
   "execution_count": 51,
   "metadata": {},
   "outputs": [
    {
     "data": {
      "text/html": [
       "<div>\n",
       "<style scoped>\n",
       "    .dataframe tbody tr th:only-of-type {\n",
       "        vertical-align: middle;\n",
       "    }\n",
       "\n",
       "    .dataframe tbody tr th {\n",
       "        vertical-align: top;\n",
       "    }\n",
       "\n",
       "    .dataframe thead th {\n",
       "        text-align: right;\n",
       "    }\n",
       "</style>\n",
       "<table border=\"1\" class=\"dataframe\">\n",
       "  <thead>\n",
       "    <tr style=\"text-align: right;\">\n",
       "      <th></th>\n",
       "      <th>model</th>\n",
       "      <th>recall_test</th>\n",
       "      <th>precision_test</th>\n",
       "      <th>recall_train</th>\n",
       "      <th>precision_train</th>\n",
       "    </tr>\n",
       "  </thead>\n",
       "  <tbody>\n",
       "    <tr>\n",
       "      <th>0</th>\n",
       "      <td>baseline_xgboost</td>\n",
       "      <td>0.831579</td>\n",
       "      <td>0.752381</td>\n",
       "      <td>0.853093</td>\n",
       "      <td>0.789976</td>\n",
       "    </tr>\n",
       "    <tr>\n",
       "      <th>1</th>\n",
       "      <td>RandomForestClassifier</td>\n",
       "      <td>0.873684</td>\n",
       "      <td>0.988095</td>\n",
       "      <td>0.863402</td>\n",
       "      <td>0.988201</td>\n",
       "    </tr>\n",
       "    <tr>\n",
       "      <th>2</th>\n",
       "      <td>GradientBoostingClassifier</td>\n",
       "      <td>0.873684</td>\n",
       "      <td>0.988095</td>\n",
       "      <td>0.868557</td>\n",
       "      <td>1.000000</td>\n",
       "    </tr>\n",
       "    <tr>\n",
       "      <th>3</th>\n",
       "      <td>XGBClassifier</td>\n",
       "      <td>0.873684</td>\n",
       "      <td>0.976471</td>\n",
       "      <td>0.863402</td>\n",
       "      <td>0.991124</td>\n",
       "    </tr>\n",
       "  </tbody>\n",
       "</table>\n",
       "</div>"
      ],
      "text/plain": [
       "                        model  recall_test  precision_test  recall_train  \\\n",
       "0            baseline_xgboost     0.831579        0.752381      0.853093   \n",
       "1      RandomForestClassifier     0.873684        0.988095      0.863402   \n",
       "2  GradientBoostingClassifier     0.873684        0.988095      0.868557   \n",
       "3               XGBClassifier     0.873684        0.976471      0.863402   \n",
       "\n",
       "   precision_train  \n",
       "0         0.789976  \n",
       "1         0.988201  \n",
       "2         1.000000  \n",
       "3         0.991124  "
      ]
     },
     "execution_count": 51,
     "metadata": {},
     "output_type": "execute_result"
    }
   ],
   "source": [
    "load_results()"
   ]
  },
  {
   "cell_type": "code",
   "execution_count": 54,
   "metadata": {},
   "outputs": [],
   "source": [
    "pickle.dump(xgb_model,open(r'D:\\churn prediction\\models\\final_model.pkl','wb'))"
   ]
  },
  {
   "cell_type": "markdown",
   "metadata": {},
   "source": [
    "# ROC AUC "
   ]
  },
  {
   "cell_type": "code",
   "execution_count": 27,
   "metadata": {},
   "outputs": [
    {
     "data": {
      "image/png": "[encoded data removed]",
      "text/plain": [
       "<Figure size 600x600 with 1 Axes>"
      ]
     },
     "metadata": {},
     "output_type": "display_data"
    }
   ],
   "source": [
    "import numpy as np\n",
    "import matplotlib.pyplot as plt\n",
    "from sklearn.metrics import roc_curve, auc\n",
    "from sklearn.model_selection import StratifiedKFold\n",
    "from sklearn.pipeline import Pipeline\n",
    "\n",
    "all_models = [rf, gb, xgb]\n",
    "model_names = ['RandomForest', 'GradientBoosting', 'XGBoost'] \n",
    "\n",
    "cv = StratifiedKFold(n_splits=5)\n",
    "mean_fpr = np.linspace(0, 1, 100)\n",
    "\n",
    "fig, ax = plt.subplots(figsize=(6, 6))\n",
    "\n",
    "for model, name in zip(all_models, model_names):\n",
    "    classifier = Pipeline([\n",
    "        ('tnf', tnf),\n",
    "        ('model', model)\n",
    "    ])\n",
    "    tprs = []\n",
    "    aucs = []\n",
    "    for train_idx, test_idx in cv.split(X_train, y_train):\n",
    "        classifier.fit(X_train.iloc[train_idx], y_train.iloc[train_idx])\n",
    "        y_prob = classifier.predict_proba(X_train.iloc[test_idx])[:, 1]\n",
    "        fpr, tpr, _ = roc_curve(y_train.iloc[test_idx], y_prob)\n",
    "        interp_tpr = np.interp(mean_fpr, fpr, tpr)\n",
    "        interp_tpr[0] = 0.0\n",
    "        tprs.append(interp_tpr)\n",
    "        aucs.append(auc(fpr, tpr))\n",
    "\n",
    "    mean_tpr = np.mean(tprs, axis=0)\n",
    "    mean_tpr[-1] = 1.0\n",
    "    mean_auc = np.mean(aucs)\n",
    "    std_auc = np.std(aucs)\n",
    "\n",
    "    ax.plot(mean_fpr, mean_tpr, lw=2,\n",
    "            label=f\"{name} (AUC = {mean_auc:.2f} ± {std_auc:.2f})\")\n",
    "\n",
    "ax.set(xlabel='False Positive Rate', ylabel='True Positive Rate',\n",
    "       title='Mean ROC Curve (5-Fold CV)')\n",
    "ax.legend(loc='lower right')\n",
    "plt.show()"
   ]
  },
  {
   "cell_type": "markdown",
   "metadata": {},
   "source": [
    "XGBoost outperformed both Random Forest and Gradient Boosting across all evaluation metrics and is therefore selected as the final model."
   ]
  }
 ],
 "metadata": {
  "kernelspec": {
   "display_name": "venv",
   "language": "python",
   "name": "python3"
  },
  "language_info": {
   "codemirror_mode": {
    "name": "ipython",
    "version": 3
   },
   "file_extension": ".py",
   "mimetype": "text/x-python",
   "name": "python",
   "nbconvert_exporter": "python",
   "pygments_lexer": "ipython3",
   "version": "3.11.4"
  }
 },
 "nbformat": 4,
 "nbformat_minor": 2
}
