{
 "cells": [
  {
   "cell_type": "code",
   "execution_count": 1,
   "metadata": {},
   "outputs": [],
   "source": [
    "import pandas as pd\n",
    "import numpy as np"
   ]
  },
  {
   "cell_type": "code",
   "execution_count": 2,
   "metadata": {},
   "outputs": [],
   "source": [
    "import os \n",
    "os.chdir(r'D:\\churn prediction')"
   ]
  },
  {
   "cell_type": "code",
   "execution_count": 3,
   "metadata": {},
   "outputs": [],
   "source": [
    "from src.preprocessing import preprocessing_pipeline\n",
    "from sklearn.preprocessing import OneHotEncoder,StandardScaler,RobustScaler\n",
    "from sklearn.impute import SimpleImputer\n",
    "from sklearn.pipeline import Pipeline\n",
    "from sklearn.compose import ColumnTransformer\n",
    "from sklearn.metrics import recall_score,precision_score,confusion_matrix,f1_score\n",
    "from sklearn.linear_model import LogisticRegression\n",
    "from sklearn.tree import DecisionTreeClassifier\n",
    "from sklearn.ensemble import RandomForestClassifier,GradientBoostingClassifier,AdaBoostClassifier\n",
    "from xgboost import XGBClassifier"
   ]
  },
  {
   "cell_type": "code",
   "execution_count": 4,
   "metadata": {},
   "outputs": [],
   "source": [
    "train = pd.read_csv(r'D:\\churn prediction\\data\\train.csv')\n",
    "test = pd.read_csv(r'D:\\churn prediction\\data\\test.csv')"
   ]
  },
  {
   "cell_type": "code",
   "execution_count": 5,
   "metadata": {},
   "outputs": [],
   "source": [
    "from src.feature_engineering import drop_state\n",
    "train = drop_state(train)\n",
    "test = drop_state(test)"
   ]
  },
  {
   "cell_type": "code",
   "execution_count": 6,
   "metadata": {},
   "outputs": [],
   "source": [
    "X_train = train.drop(columns='Churn')\n",
    "y_train = train['Churn']\n",
    "\n",
    "X_test = test.drop(columns='Churn')\n",
    "y_test = test['Churn']"
   ]
  },
  {
   "cell_type": "code",
   "execution_count": 7,
   "metadata": {},
   "outputs": [],
   "source": [
    "#mapping values True :1 , False :0\n",
    "y_test = y_test.map({True:1,False:0})\n",
    "y_train =y_train.map({True:1,False:0})"
   ]
  },
  {
   "cell_type": "code",
   "execution_count": 8,
   "metadata": {},
   "outputs": [],
   "source": [
    "model1 = LogisticRegression()\n",
    "model2 = DecisionTreeClassifier()\n",
    "model3 = RandomForestClassifier()\n",
    "model4 = GradientBoostingClassifier()\n",
    "model5 = AdaBoostClassifier()\n",
    "model6 = XGBClassifier()"
   ]
  },
  {
   "cell_type": "code",
   "execution_count": 9,
   "metadata": {},
   "outputs": [],
   "source": [
    "num_cols = [0,1,4,5,6,7,8,9,10,11,12,13,14,15,16,17]\n",
    "cat_cols = [2,3]\n",
    "tnf = preprocessing_pipeline(num_cols,cat_cols)"
   ]
  },
  {
   "cell_type": "code",
   "execution_count": 10,
   "metadata": {},
   "outputs": [],
   "source": [
    "\n",
    "model_list = [model1,model2,model3,model4,model5,model6]\n",
    "\n",
    "recall_train_list = []\n",
    "precision_train_list = []\n",
    "\n",
    "recall_test_list = []\n",
    "precision_test_list = []\n",
    "model_names = []\n",
    "for model in model_list:\n",
    "    model_pipe = Pipeline([\n",
    "        ('tnf',tnf),\n",
    "        (f'{model.__class__.__name__}',model)\n",
    "    ])\n",
    "    \n",
    "    #train model on data\n",
    "    model_pipe.fit(X_train,y_train)\n",
    "    model_names.append(model_pipe[1].__class__.__name__ )\n",
    "    \n",
    "    #predictions of model on train and test both\n",
    "    test_pred = model_pipe.predict(X_test)\n",
    "    train_pred = model_pipe.predict(X_train)\n",
    "\n",
    "    #recall score calculation of test and train\n",
    "    recall_test_list.append(recall_score(y_test,test_pred))\n",
    "    recall_train_list.append(recall_score(y_train,train_pred))\n",
    "\n",
    "    #precision score calculation of test and train\n",
    "    precision_test_list.append(precision_score(y_test,test_pred))\n",
    "\n",
    "    precision_train_list.append(precision_score(y_train,train_pred)) "
   ]
  },
  {
   "cell_type": "code",
   "execution_count": 11,
   "metadata": {},
   "outputs": [
    {
     "data": {
      "text/html": [
       "<div>\n",
       "<style scoped>\n",
       "    .dataframe tbody tr th:only-of-type {\n",
       "        vertical-align: middle;\n",
       "    }\n",
       "\n",
       "    .dataframe tbody tr th {\n",
       "        vertical-align: top;\n",
       "    }\n",
       "\n",
       "    .dataframe thead th {\n",
       "        text-align: right;\n",
       "    }\n",
       "</style>\n",
       "<table border=\"1\" class=\"dataframe\">\n",
       "  <thead>\n",
       "    <tr style=\"text-align: right;\">\n",
       "      <th></th>\n",
       "      <th>models</th>\n",
       "      <th>recall_test</th>\n",
       "      <th>recall_train</th>\n",
       "      <th>precision_test</th>\n",
       "      <th>precision_train</th>\n",
       "    </tr>\n",
       "  </thead>\n",
       "  <tbody>\n",
       "    <tr>\n",
       "      <th>5</th>\n",
       "      <td>XGBClassifier</td>\n",
       "      <td>0.757895</td>\n",
       "      <td>1.000000</td>\n",
       "      <td>0.923077</td>\n",
       "      <td>1.000000</td>\n",
       "    </tr>\n",
       "    <tr>\n",
       "      <th>1</th>\n",
       "      <td>DecisionTreeClassifier</td>\n",
       "      <td>0.747368</td>\n",
       "      <td>1.000000</td>\n",
       "      <td>0.682692</td>\n",
       "      <td>1.000000</td>\n",
       "    </tr>\n",
       "    <tr>\n",
       "      <th>2</th>\n",
       "      <td>RandomForestClassifier</td>\n",
       "      <td>0.736842</td>\n",
       "      <td>1.000000</td>\n",
       "      <td>0.972222</td>\n",
       "      <td>1.000000</td>\n",
       "    </tr>\n",
       "    <tr>\n",
       "      <th>3</th>\n",
       "      <td>GradientBoostingClassifier</td>\n",
       "      <td>0.705263</td>\n",
       "      <td>0.817010</td>\n",
       "      <td>0.930556</td>\n",
       "      <td>0.981424</td>\n",
       "    </tr>\n",
       "    <tr>\n",
       "      <th>4</th>\n",
       "      <td>AdaBoostClassifier</td>\n",
       "      <td>0.484211</td>\n",
       "      <td>0.368557</td>\n",
       "      <td>0.666667</td>\n",
       "      <td>0.687500</td>\n",
       "    </tr>\n",
       "    <tr>\n",
       "      <th>0</th>\n",
       "      <td>LogisticRegression</td>\n",
       "      <td>0.178947</td>\n",
       "      <td>0.216495</td>\n",
       "      <td>0.459459</td>\n",
       "      <td>0.579310</td>\n",
       "    </tr>\n",
       "  </tbody>\n",
       "</table>\n",
       "</div>"
      ],
      "text/plain": [
       "                       models  recall_test  recall_train  precision_test  \\\n",
       "5               XGBClassifier     0.757895      1.000000        0.923077   \n",
       "1      DecisionTreeClassifier     0.747368      1.000000        0.682692   \n",
       "2      RandomForestClassifier     0.736842      1.000000        0.972222   \n",
       "3  GradientBoostingClassifier     0.705263      0.817010        0.930556   \n",
       "4          AdaBoostClassifier     0.484211      0.368557        0.666667   \n",
       "0          LogisticRegression     0.178947      0.216495        0.459459   \n",
       "\n",
       "   precision_train  \n",
       "5         1.000000  \n",
       "1         1.000000  \n",
       "2         1.000000  \n",
       "3         0.981424  \n",
       "4         0.687500  \n",
       "0         0.579310  "
      ]
     },
     "execution_count": 11,
     "metadata": {},
     "output_type": "execute_result"
    }
   ],
   "source": [
    "result = pd.DataFrame(\n",
    "    {\n",
    "        'models':model_names,\n",
    "        'recall_test':recall_test_list,\n",
    "        'recall_train':recall_train_list,\n",
    "        'precision_test':precision_test_list,\n",
    "        'precision_train':precision_train_list,\n",
    "       \n",
    "    }\n",
    ")\n",
    "result.sort_values(by=['recall_test','precision_test'],ascending=False)"
   ]
  },
  {
   "cell_type": "code",
   "execution_count": 12,
   "metadata": {},
   "outputs": [],
   "source": [
    "num_cols = [0,1,4,5,6,7,8,9,10,11,12,13,14,15,16,17]\n",
    "cat_cols = [2,3]\n",
    "tnf = preprocessing_pipeline(num_cols,cat_cols)"
   ]
  },
  {
   "cell_type": "code",
   "execution_count": 13,
   "metadata": {},
   "outputs": [],
   "source": [
    "model =XGBClassifier(max_depth=3,eta=0.09,scale_pos_weight=5,n_estimators=100,random_state=42)"
   ]
  },
  {
   "cell_type": "code",
   "execution_count": 14,
   "metadata": {},
   "outputs": [],
   "source": [
    "from src.metrics import metrics_evaluation\n",
    "from src.training_model import train_model_pipeline"
   ]
  },
  {
   "cell_type": "code",
   "execution_count": 15,
   "metadata": {},
   "outputs": [
    {
     "name": "stdout",
     "output_type": "stream",
     "text": [
      "Train metrics\n",
      "recall: 0.853\n",
      "precision:0.790\n",
      " \n",
      "Test metrics\n",
      "recall: 0.832\n",
      "precision:0.752\n"
     ]
    },
    {
     "data": {
      "image/png": "[encoded data removed]",
      "text/plain": [
       "<Figure size 640x480 with 2 Axes>"
      ]
     },
     "metadata": {},
     "output_type": "display_data"
    }
   ],
   "source": [
    "#baseline model\n",
    "\n",
    "baseline_model = train_model_pipeline(model,tnf,X_train,y_train)\n",
    "metrics_evaluation(baseline_model,X_train,X_test,y_train,y_test)"
   ]
  },
  {
   "cell_type": "code",
   "execution_count": 16,
   "metadata": {},
   "outputs": [],
   "source": [
    "from src.metrics import validation_evalution"
   ]
  },
  {
   "cell_type": "code",
   "execution_count": 17,
   "metadata": {},
   "outputs": [
    {
     "name": "stdout",
     "output_type": "stream",
     "text": [
      "validation recall : 0.8349983349983351\n"
     ]
    }
   ],
   "source": [
    "val_recall = validation_evalution(baseline_model,'recall',X_train,y_train)\n",
    "print(f'validation recall : {val_recall}')"
   ]
  },
  {
   "cell_type": "code",
   "execution_count": 18,
   "metadata": {},
   "outputs": [
    {
     "name": "stdout",
     "output_type": "stream",
     "text": [
      "validation precision : 0.7314402819741892\n"
     ]
    }
   ],
   "source": [
    "val_precision = validation_evalution(baseline_model,'precision',X_train,y_train)\n",
    "print(f'validation precision : {val_precision}')"
   ]
  },
  {
   "cell_type": "code",
   "execution_count": 19,
   "metadata": {},
   "outputs": [],
   "source": [
    "from output.results_io import load_results,save_results"
   ]
  },
  {
   "cell_type": "code",
   "execution_count": 20,
   "metadata": {},
   "outputs": [],
   "source": [
    "#rerun will cause the update again in the values!\n",
    "#save_results(baseline_model,'baseline_xgboost',X_train,X_test,y_train,y_test)"
   ]
  },
  {
   "cell_type": "code",
   "execution_count": 21,
   "metadata": {},
   "outputs": [
    {
     "data": {
      "text/html": [
       "<div>\n",
       "<style scoped>\n",
       "    .dataframe tbody tr th:only-of-type {\n",
       "        vertical-align: middle;\n",
       "    }\n",
       "\n",
       "    .dataframe tbody tr th {\n",
       "        vertical-align: top;\n",
       "    }\n",
       "\n",
       "    .dataframe thead th {\n",
       "        text-align: right;\n",
       "    }\n",
       "</style>\n",
       "<table border=\"1\" class=\"dataframe\">\n",
       "  <thead>\n",
       "    <tr style=\"text-align: right;\">\n",
       "      <th></th>\n",
       "      <th>model</th>\n",
       "      <th>recall_test</th>\n",
       "      <th>precision_test</th>\n",
       "      <th>recall_train</th>\n",
       "      <th>precision_train</th>\n",
       "    </tr>\n",
       "  </thead>\n",
       "  <tbody>\n",
       "    <tr>\n",
       "      <th>0</th>\n",
       "      <td>baseline_xgboost</td>\n",
       "      <td>0.831579</td>\n",
       "      <td>0.752381</td>\n",
       "      <td>0.853093</td>\n",
       "      <td>0.789976</td>\n",
       "    </tr>\n",
       "    <tr>\n",
       "      <th>1</th>\n",
       "      <td>RandomForestClassifier</td>\n",
       "      <td>0.873684</td>\n",
       "      <td>0.988095</td>\n",
       "      <td>0.863402</td>\n",
       "      <td>0.988201</td>\n",
       "    </tr>\n",
       "    <tr>\n",
       "      <th>2</th>\n",
       "      <td>GradientBoostingClassifier</td>\n",
       "      <td>0.873684</td>\n",
       "      <td>0.988095</td>\n",
       "      <td>0.868557</td>\n",
       "      <td>1.000000</td>\n",
       "    </tr>\n",
       "    <tr>\n",
       "      <th>3</th>\n",
       "      <td>XGBClassifier</td>\n",
       "      <td>0.873684</td>\n",
       "      <td>0.976471</td>\n",
       "      <td>0.863402</td>\n",
       "      <td>0.991124</td>\n",
       "    </tr>\n",
       "  </tbody>\n",
       "</table>\n",
       "</div>"
      ],
      "text/plain": [
       "                        model  recall_test  precision_test  recall_train  \\\n",
       "0            baseline_xgboost     0.831579        0.752381      0.853093   \n",
       "1      RandomForestClassifier     0.873684        0.988095      0.863402   \n",
       "2  GradientBoostingClassifier     0.873684        0.988095      0.868557   \n",
       "3               XGBClassifier     0.873684        0.976471      0.863402   \n",
       "\n",
       "   precision_train  \n",
       "0         0.789976  \n",
       "1         0.988201  \n",
       "2         1.000000  \n",
       "3         0.991124  "
      ]
     },
     "execution_count": 21,
     "metadata": {},
     "output_type": "execute_result"
    }
   ],
   "source": [
    "load_results()"
   ]
  },
  {
   "cell_type": "code",
   "execution_count": 22,
   "metadata": {},
   "outputs": [],
   "source": [
    "import pickle\n",
    "pickle.dump(baseline_model,open(r'D:\\churn prediction\\models\\baseline_model.pkl','wb'))"
   ]
  }
 ],
 "metadata": {
  "kernelspec": {
   "display_name": "venv",
   "language": "python",
   "name": "python3"
  },
  "language_info": {
   "codemirror_mode": {
    "name": "ipython",
    "version": 3
   },
   "file_extension": ".py",
   "mimetype": "text/x-python",
   "name": "python",
   "nbconvert_exporter": "python",
   "pygments_lexer": "ipython3",
   "version": "3.11.4"
  }
 },
 "nbformat": 4,
 "nbformat_minor": 2
}
